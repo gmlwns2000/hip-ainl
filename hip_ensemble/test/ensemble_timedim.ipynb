{
 "cells": [
  {
   "cell_type": "code",
   "execution_count": 22,
   "metadata": {},
   "outputs": [],
   "source": [
    "import torch\n",
    "\n",
    "a =  torch.tensor([[3, 1, 2, 2],\n",
    " [1, 2, 2, 1],\n",
    " [3, 5, 3, 4]])\n",
    "x, indices, cnt = torch.unique(a, return_inverse=True, sorted=False, return_counts=True)"
   ]
  },
  {
   "cell_type": "code",
   "execution_count": 23,
   "metadata": {},
   "outputs": [],
   "source": [
    "ensemble_attn_mask_per_layer = torch.tensor([[3, 1, 2, 2],\n",
    " [1, 2, 2, 1],\n",
    " [3, 5, 3, 4]])\n",
    "# ensemble_attn_mask_per_layer [40, 128, 256, 5] to [N*H * TDST//BLOCK_SIZE_Q, mask_k//BLOCK_SIZE_K * ensemble_model_n]\n",
    "# ensemble_attn_mask_per_layer = ensemble_attn_mask_per_layer.view(_N_H * TDST_BQ, MASK_K_BK * MODEL_N)\n",
    "# ensemble_attn_mask_per_layer : [N*H * TDST//BLOCK_SIZE_Q, mask_k//BLOCK_SIZE_K * ensemble_model_n]\n",
    "unique_x, indices, unique_cnt = torch.unique(ensemble_attn_mask_per_layer, return_inverse=True, sorted=False, return_counts=True)\n",
    "# indices -= indices.min(dim=1, keepdims=True)[0]\n",
    "\n",
    "# cnt_x = (unique_x[None, None, :] == ensemble_attn_mask_per_layer[:, :, None]).long().sum(1)\n",
    "N, K = ensemble_attn_mask_per_layer.shape\n",
    "\n"
   ]
  },
  {
   "cell_type": "code",
   "execution_count": 24,
   "metadata": {},
   "outputs": [
    {
     "data": {
      "text/plain": [
       "(tensor([1, 2, 3, 4, 5]),\n",
       " tensor([[2, 0, 1, 1],\n",
       "         [0, 1, 1, 0],\n",
       "         [2, 4, 2, 3]]),\n",
       " tensor([3, 4, 3, 1, 1]))"
      ]
     },
     "execution_count": 24,
     "metadata": {},
     "output_type": "execute_result"
    }
   ],
   "source": [
    "unique_x, indices, unique_cnt"
   ]
  },
  {
   "cell_type": "code",
   "execution_count": 25,
   "metadata": {},
   "outputs": [],
   "source": [
    "import math\n",
    "\n",
    "cnt_xs = []\n",
    "chunk_n = 64\n",
    "for icn in range(int(math.ceil(N / chunk_n))):\n",
    "    cnt_xs.append(\n",
    "        (unique_x[None, None, :] == ensemble_attn_mask_per_layer[icn*chunk_n:icn*chunk_n+chunk_n, :, None]).long().sum(1)\n",
    "    )\n",
    "cnt_x = torch.cat(cnt_xs, dim=0)\n",
    "\n",
    "\n",
    "result = torch.full((N, unique_x.shape[0]), 9999999, device=indices.device, dtype=torch.int64)\n",
    "result = result.scatter_(1, indices, ensemble_attn_mask_per_layer)\n",
    "\n",
    "\n"
   ]
  },
  {
   "cell_type": "code",
   "execution_count": 26,
   "metadata": {},
   "outputs": [
    {
     "data": {
      "text/plain": [
       "(tensor([[1, 2, 1, 0, 0],\n",
       "         [2, 2, 0, 0, 0],\n",
       "         [0, 0, 2, 1, 1]]),\n",
       " tensor([[      1,       2,       3, 9999999, 9999999],\n",
       "         [      1,       2, 9999999, 9999999, 9999999],\n",
       "         [9999999, 9999999,       3,       4,       5]]))"
      ]
     },
     "execution_count": 26,
     "metadata": {},
     "output_type": "execute_result"
    }
   ],
   "source": [
    "cnt_x, result"
   ]
  },
  {
   "cell_type": "code",
   "execution_count": 27,
   "metadata": {},
   "outputs": [],
   "source": [
    "# t = result[:, :, None] == unique_x[None, None, :]\n",
    "# t = t * torch.arange(len(unique_x), device=t.device)[None, None, :]\n",
    "# t = t.sum(-1)\n",
    "N, K = result.shape\n",
    "ts = []\n",
    "chunk_n = 64\n",
    "for icn in range(int(math.ceil(N / chunk_n))):\n",
    "    t = result[icn*chunk_n:icn*chunk_n+chunk_n, :, None] == unique_x[None, None, :]\n",
    "    t = t * torch.arange(len(unique_x), device=t.device)[None, None, :]\n",
    "    t = t.sum(-1)\n",
    "    ts.append(t)\n",
    "t = torch.cat(ts, dim=0)\n",
    "\n",
    "# torch.Size([4096, 1280]) torch.Size([64, 1280]) torch.Size([4096, 2094])\n",
    "# print(result.shape, t.shape, cnt_x.shape)\n",
    "result_cnt = torch.where(result < 9999999, cnt_x.gather(-1, t), -9999999)"
   ]
  },
  {
   "cell_type": "code",
   "execution_count": 28,
   "metadata": {},
   "outputs": [
    {
     "data": {
      "text/plain": [
       "(tensor([[0, 1, 2, 0, 0],\n",
       "         [0, 1, 0, 0, 0],\n",
       "         [0, 0, 2, 3, 4]]),\n",
       " tensor([[       1,        2,        1, -9999999, -9999999],\n",
       "         [       2,        2, -9999999, -9999999, -9999999],\n",
       "         [-9999999, -9999999,        2,        1,        1]]))"
      ]
     },
     "execution_count": 28,
     "metadata": {},
     "output_type": "execute_result"
    }
   ],
   "source": [
    "t, result_cnt"
   ]
  },
  {
   "cell_type": "code",
   "execution_count": 29,
   "metadata": {},
   "outputs": [],
   "source": [
    "# ensemble_sorted : [N*H * TDST//BLOCK_SIZE_Q, mask_k//BLOCK_SIZE_K * ensemble_model_n]\n",
    "# ensemble_cnt_sorted : [N*H * TDST//BLOCK_SIZE_Q, mask_k//BLOCK_SIZE_K * ensemble_model_n]\n",
    "ensemble_cnt_sorted, indices = torch.sort(result_cnt, dim=-1, descending=True)\n",
    "ensemble_sorted = result.gather(-1, indices)"
   ]
  },
  {
   "cell_type": "code",
   "execution_count": 31,
   "metadata": {},
   "outputs": [
    {
     "data": {
      "text/plain": [
       "(tensor([[      2,       1,       3, 9999999, 9999999],\n",
       "         [      1,       2, 9999999, 9999999, 9999999],\n",
       "         [      3,       4,       5, 9999999, 9999999]]),\n",
       " tensor([[       2,        1,        1, -9999999, -9999999],\n",
       "         [       2,        2, -9999999, -9999999, -9999999],\n",
       "         [       2,        1,        1, -9999999, -9999999]]),\n",
       " tensor([[1, 0, 2, 3, 4],\n",
       "         [0, 1, 2, 3, 4],\n",
       "         [2, 3, 4, 0, 1]]))"
      ]
     },
     "execution_count": 31,
     "metadata": {},
     "output_type": "execute_result"
    }
   ],
   "source": [
    "ensemble_sorted, ensemble_cnt_sorted, indices"
   ]
  },
  {
   "cell_type": "code",
   "execution_count": null,
   "metadata": {},
   "outputs": [],
   "source": [
    "\n",
    "\n",
    "'''\n",
    "ensemble_attn_mask_per_layer\n",
    "tensor([[1, 1, 3, 3, 3, 5],\\\n",
    "        [3, 3, 4, 4, 4, 4]])\n",
    "ensemble_cnt_sorted\n",
    "tensor([[       6,        4,        3,        3,        2,        1,        1,\n",
    "-9999999, -9999999, -9999999, -9999999, -9999999, -9999999, -9999999,\n",
    "-9999999, -9999999, -9999999, -9999999, -9999999, -9999999],\\\n",
    "[       6,        4,        3,        3,        2,        2, -9999999,\n",
    "-9999999, -9999999, -9999999, -9999999, -9999999, -9999999, -9999999,\n",
    "-9999999, -9999999, -9999999, -9999999, -9999999, -9999999]])\n",
    "ensemble_sorted\n",
    "tensor([[   10,     6,     3,     8,     1,     5,    11, 32000, 32000, 32000,\n",
    "32000, 32000, 32000, 32000, 32000, 32000, 32000, 32000, 32000, 32000],\\\n",
    "[    5,     4,     7,     9,     6,     3, 32000, 32000, 32000, 32000,\n",
    "32000, 32000, 32000, 32000, 32000, 32000, 32000, 32000, 32000, 32000]]))\n",
    "'''\n",
    "\n",
    "if ensemble_method_final_inter_thresh == None and ensemble_method_final_bdd_mask_k == 1:\n",
    "    ensemble_filtered = ensemble_sorted\n",
    "    ensemble_cnt_filtered = ensemble_cnt_sorted\n",
    "else:\n",
    "    mask = ensemble_cnt_sorted >= ensemble_method_final_inter_thresh\n",
    "\n",
    "    ensemble_filtered = torch.where(mask, ensemble_sorted, torch.tensor(9999999, device=mask.device))\n",
    "    ensemble_cnt_filtered = torch.where(mask, ensemble_cnt_sorted, torch.tensor(9999999, device=mask.device))\n",
    "    \n",
    "## mask_i : where to discard leftovers \n",
    "filtered_mask = ensemble_filtered == 9999999\n",
    "# Determine which columns have all rows as -1\n",
    "columns_with_all_negative_one = torch.all(filtered_mask, dim=0)\n",
    "\n",
    "# Get the first index where all rows have -1\n",
    "nonzero_indices = torch.nonzero(columns_with_all_negative_one, as_tuple=True)\n",
    "\n",
    "# If there are any such columns, find the first one\n",
    "if len(nonzero_indices[0]) > 0:\n",
    "    mask_k_i = nonzero_indices[0][0].item()\n",
    "    k_final = min(mask_k_i, ensemble_indices_k_size)\n",
    "else:\n",
    "    mask_k_i = -1  # If no such index is found\n",
    "    k_final = ensemble_indices_k_size # CHECK - is it min(ensemble_indices_k_size, ensemble_filtered.shape[1])\n",
    "\n",
    "ensemble_filtered = ensemble_filtered[:, :k_final] # TODO is this meaningful??\n",
    "ensemble_cnt_filtered = ensemble_cnt_filtered[:, :k_final]\n",
    "ensemble_filtered = ensemble_filtered.view(_N_H, TDST_BQ, -1)\n",
    "ensemble_cnt_filtered = ensemble_cnt_filtered.view(_N_H, TDST_BQ, -1)"
   ]
  },
  {
   "cell_type": "code",
   "execution_count": 52,
   "metadata": {},
   "outputs": [
    {
     "name": "stdout",
     "output_type": "stream",
     "text": [
      "Unique values in the array: [ 1  2  3  5  6  7  8  9 10]\n",
      "Counts of each unique value: [2 5 1 1 2 1 1 1 1]\n"
     ]
    }
   ],
   "source": [
    "import numpy as np\n",
    "\n",
    "# Create a (3, 5) shaped numpy array\n",
    "array = np.array([[1, 2, 2, 2, 2],\n",
    "                  [1, 2, 3, 6, 7],\n",
    "                  [8, 9, 10, 6, 5]])\n",
    "\n",
    "# Find the unique values and their counts\n",
    "unique_values, counts = np.unique(array, return_counts=True)\n",
    "\n",
    "# Print the results\n",
    "print(\"Unique values in the array:\", unique_values)\n",
    "print(\"Counts of each unique value:\", counts)\n"
   ]
  },
  {
   "cell_type": "code",
   "execution_count": 79,
   "metadata": {},
   "outputs": [
    {
     "data": {
      "text/plain": [
       "(array([ 1,  2,  5,  6,  7,  8,  9, 10]), array([2, 4, 3, 2, 1, 1, 1, 1]))"
      ]
     },
     "execution_count": 79,
     "metadata": {},
     "output_type": "execute_result"
    }
   ],
   "source": [
    "import numpy as np\n",
    "\n",
    "# Create a (3, 5) shaped numpy array\n",
    "array = np.array([[1, 2, 2, 2, 5],\n",
    "                  [1, 2, 5, 6, 7],\n",
    "                  [8, 9, 10, 6, 5]])\n",
    "\n",
    "# Find the unique values and their counts\n",
    "unique_values, counts = np.unique(array, return_counts=True)\n",
    "\n",
    "unique_values, counts"
   ]
  },
  {
   "cell_type": "code",
   "execution_count": 54,
   "metadata": {},
   "outputs": [
    {
     "data": {
      "text/plain": [
       "(array([1, 2, 3, 0, 7, 6, 5, 4]),\n",
       " array([ 2,  5,  6,  1, 10,  9,  8,  7]),\n",
       " array([4, 3, 2, 2, 1, 1, 1, 1]))"
      ]
     },
     "execution_count": 54,
     "metadata": {},
     "output_type": "execute_result"
    }
   ],
   "source": [
    "# Sort the unique values by counts in descending order\n",
    "sorted_indices = np.argsort(counts)[::-1]\n",
    "sorted_unique_values = unique_values[sorted_indices]\n",
    "sorted_counts = counts[sorted_indices]\n",
    "\n",
    "sorted_indices, sorted_unique_values, sorted_counts\n",
    "# Print the results\n",
    "# print()\n",
    "# print(\"Unique values sorted by counts:\", sorted_unique_values)\n",
    "# print(\"Counts of each unique value:\", sorted_counts)\n"
   ]
  },
  {
   "cell_type": "code",
   "execution_count": 55,
   "metadata": {},
   "outputs": [
    {
     "data": {
      "text/plain": [
       "array([[99999, 99999, 99999, 99999,     5],\n",
       "       [99999, 99999,     5,     6,     7],\n",
       "       [    8,     9,    10,     6,     5]])"
      ]
     },
     "execution_count": 55,
     "metadata": {},
     "output_type": "execute_result"
    }
   ],
   "source": [
    "array = np.array([[1, 2, 2, 2, 5],\n",
    "                  [1, 2, 5, 6, 7],\n",
    "                  [8, 9, 10, 6, 5]])\n",
    "\n",
    "mask = array > 3\n",
    "\n",
    "result = np.where(mask, array, 99999)\n",
    "result"
   ]
  },
  {
   "cell_type": "code",
   "execution_count": 61,
   "metadata": {},
   "outputs": [
    {
     "data": {
      "text/plain": [
       "(array([1, 2, 2, 2, 5, 1, 2, 5, 6, 7]),\n",
       " array([[1, 2, 2, 2, 5],\n",
       "        [1, 2, 5, 6, 7]]))"
      ]
     },
     "execution_count": 61,
     "metadata": {},
     "output_type": "execute_result"
    }
   ],
   "source": [
    "array = np.array([[[1, 2, 2, 2, 5],\n",
    "                  [1, 2, 5, 6, 7],\n",
    "                  [8, 9, 10, 6, 5]], [[1, 1, 1, 2, 3],\n",
    "                  [1, 2, 3, 6, 8],\n",
    "                  [8, 9, 10, 4, 6]]])\n",
    "\n",
    "array[0,0:2].flatten(), array[0,0:2]"
   ]
  },
  {
   "cell_type": "code",
   "execution_count": 62,
   "metadata": {},
   "outputs": [
    {
     "data": {
      "text/plain": [
       "(array([1, 2, 5, 6, 7]), array([2, 4, 2, 1, 1]))"
      ]
     },
     "execution_count": 62,
     "metadata": {},
     "output_type": "execute_result"
    }
   ],
   "source": [
    "f = array[0,0:2].flatten()\n",
    "unique_values, counts = np.unique(f, return_counts=True)\n",
    "unique_values, counts"
   ]
  },
  {
   "cell_type": "code",
   "execution_count": 65,
   "metadata": {},
   "outputs": [
    {
     "data": {
      "text/plain": [
       "5"
      ]
     },
     "execution_count": 65,
     "metadata": {},
     "output_type": "execute_result"
    }
   ],
   "source": [
    "len(unique_values)"
   ]
  },
  {
   "cell_type": "code",
   "execution_count": 63,
   "metadata": {},
   "outputs": [
    {
     "data": {
      "text/plain": [
       "(array([1, 2, 5, 6, 7]), array([2, 4, 2, 1, 1]))"
      ]
     },
     "execution_count": 63,
     "metadata": {},
     "output_type": "execute_result"
    }
   ],
   "source": [
    "f = array[0,0:2]\n",
    "unique_values, counts = np.unique(f, return_counts=True)\n",
    "unique_values, counts"
   ]
  },
  {
   "cell_type": "code",
   "execution_count": 72,
   "metadata": {},
   "outputs": [
    {
     "data": {
      "text/plain": [
       "5"
      ]
     },
     "execution_count": 72,
     "metadata": {},
     "output_type": "execute_result"
    }
   ],
   "source": [
    "len(array[0][0])"
   ]
  },
  {
   "cell_type": "code",
   "execution_count": 73,
   "metadata": {},
   "outputs": [
    {
     "data": {
      "text/plain": [
       "tensor([[9999, 9999, 9999, 9999, 9999],\n",
       "        [9999, 9999, 9999, 9999, 9999],\n",
       "        [9999, 9999, 9999, 9999, 9999]])"
      ]
     },
     "execution_count": 73,
     "metadata": {},
     "output_type": "execute_result"
    }
   ],
   "source": [
    "torch.full((3,5),9999)"
   ]
  },
  {
   "cell_type": "code",
   "execution_count": 78,
   "metadata": {},
   "outputs": [
    {
     "data": {
      "text/plain": [
       "numpy.int64"
      ]
     },
     "execution_count": 78,
     "metadata": {},
     "output_type": "execute_result"
    }
   ],
   "source": [
    "type(np.full((3,5),9999)[0][0])"
   ]
  },
  {
   "cell_type": "code",
   "execution_count": 84,
   "metadata": {},
   "outputs": [
    {
     "data": {
      "text/plain": [
       "(array([[1, 2, 2, 2, 5],\n",
       "        [1, 2, 5, 6, 7]]),\n",
       " array([1, 2, 2, 2, 5, 1, 2, 5, 6, 7]))"
      ]
     },
     "execution_count": 84,
     "metadata": {},
     "output_type": "execute_result"
    }
   ],
   "source": [
    "array = np.array([[[1, 2, 2, 2, 5],\n",
    "                  [1, 2, 5, 6, 7],\n",
    "                  [8, 9, 10, 6, 5]], [[1, 1, 1, 2, 3],\n",
    "                  [1, 2, 3, 6, 8],\n",
    "                  [8, 9, 10, 4, 6]]])\n",
    "\n",
    "array[0, 0:2, :], (array[0, 0:2, :]).flatten()"
   ]
  },
  {
   "cell_type": "code",
   "execution_count": 86,
   "metadata": {},
   "outputs": [
    {
     "data": {
      "text/plain": [
       "(array([1, 2, 5, 6, 7]), array([2, 4, 2, 1, 1]))"
      ]
     },
     "execution_count": 86,
     "metadata": {},
     "output_type": "execute_result"
    }
   ],
   "source": [
    "unique_values, unique_cnt = np.unique(array[0, 0:2, :].flatten(), return_counts=True)\n",
    "\n",
    "unique_values, unique_cnt"
   ]
  },
  {
   "cell_type": "code",
   "execution_count": 92,
   "metadata": {},
   "outputs": [],
   "source": [
    "\n",
    "sorted_indices = np.argsort(-unique_cnt)\n",
    "# sorted_indices = np.argsort(unique_cnt)[::-1]\n",
    "sorted_unique_values = unique_values[sorted_indices]\n",
    "sorted_cnt = unique_cnt[sorted_indices]\n",
    "\n",
    "# sorted_unique_values = unique_values\n",
    "# sorted_cnt = unique_cnt\n",
    "\n",
    "# assert ensemble_method_final_inter_thresh != None\n",
    "mask = sorted_cnt >= 2\n",
    "\n",
    "ensemble_filtered = np.where(mask, sorted_unique_values, 9999999)\n",
    "ensemble_cnt_filtered = np.where(mask, sorted_cnt, 9999999)"
   ]
  },
  {
   "cell_type": "code",
   "execution_count": 93,
   "metadata": {},
   "outputs": [
    {
     "data": {
      "text/plain": [
       "(array([1, 0, 2, 3, 4]), array([2, 1, 5, 6, 7]), array([4, 2, 2, 1, 1]))"
      ]
     },
     "execution_count": 93,
     "metadata": {},
     "output_type": "execute_result"
    }
   ],
   "source": [
    "sorted_indices, sorted_unique_values, sorted_cnt"
   ]
  },
  {
   "cell_type": "code",
   "execution_count": 94,
   "metadata": {},
   "outputs": [
    {
     "data": {
      "text/plain": [
       "(array([      2,       1,       5, 9999999, 9999999]),\n",
       " array([      4,       2,       2, 9999999, 9999999]))"
      ]
     },
     "execution_count": 94,
     "metadata": {},
     "output_type": "execute_result"
    }
   ],
   "source": [
    "ensemble_filtered, ensemble_cnt_filtered"
   ]
  },
  {
   "cell_type": "code",
   "execution_count": 97,
   "metadata": {},
   "outputs": [],
   "source": [
    "ensemble_cnt_filtered = np.where(ensemble_filtered < 9999999, ensemble_cnt_filtered, -9999999)"
   ]
  },
  {
   "cell_type": "code",
   "execution_count": 100,
   "metadata": {},
   "outputs": [
    {
     "data": {
      "text/plain": [
       "array([       4,        2,        2, -9999999, -9999999])"
      ]
     },
     "execution_count": 100,
     "metadata": {},
     "output_type": "execute_result"
    }
   ],
   "source": [
    "ensemble_cnt_filtered"
   ]
  },
  {
   "cell_type": "code",
   "execution_count": 102,
   "metadata": {},
   "outputs": [
    {
     "data": {
      "text/plain": [
       "array([False, False, False,  True,  True])"
      ]
     },
     "execution_count": 102,
     "metadata": {},
     "output_type": "execute_result"
    }
   ],
   "source": [
    "filtered_mask = ensemble_filtered == 9999999\n",
    "\n",
    "filtered_mask"
   ]
  },
  {
   "cell_type": "code",
   "execution_count": 122,
   "metadata": {},
   "outputs": [],
   "source": [
    "ensemble_filtered = torch.tensor([[[2,       1,       5, 9999999, 9999999], [3, 5, 9999999, 9999999, 9999999], [4,7, 9, 9999999, 9999999]], [[2,       1,       6, 8, 9999999], [2, 7, 10, 9999999, 9999999], [3, 5, 7, 8, 9999999]]])"
   ]
  },
  {
   "cell_type": "code",
   "execution_count": 123,
   "metadata": {},
   "outputs": [
    {
     "data": {
      "text/plain": [
       "(tensor([[[      2,       1,       5, 9999999, 9999999],\n",
       "          [      3,       5, 9999999, 9999999, 9999999],\n",
       "          [      4,       7,       9, 9999999, 9999999]],\n",
       " \n",
       "         [[      2,       1,       6,       8, 9999999],\n",
       "          [      2,       7,      10, 9999999, 9999999],\n",
       "          [      3,       5,       7,       8, 9999999]]]),\n",
       " torch.Size([2, 3, 5]))"
      ]
     },
     "execution_count": 123,
     "metadata": {},
     "output_type": "execute_result"
    }
   ],
   "source": [
    "ensemble_filtered, ensemble_filtered.shape"
   ]
  },
  {
   "cell_type": "code",
   "execution_count": 124,
   "metadata": {},
   "outputs": [
    {
     "data": {
      "text/plain": [
       "(tensor([[False, False, False,  True,  True],\n",
       "         [False, False,  True,  True,  True],\n",
       "         [False, False, False,  True,  True],\n",
       "         [False, False, False, False,  True],\n",
       "         [False, False, False,  True,  True],\n",
       "         [False, False, False, False,  True]]),\n",
       " torch.Size([6, 5]))"
      ]
     },
     "execution_count": 124,
     "metadata": {},
     "output_type": "execute_result"
    }
   ],
   "source": [
    "filtered_mask = ensemble_filtered.view(6,-1) == 9999999\n",
    "\n",
    "filtered_mask,filtered_mask.shape"
   ]
  },
  {
   "cell_type": "code",
   "execution_count": 125,
   "metadata": {},
   "outputs": [
    {
     "data": {
      "text/plain": [
       "(tensor([False, False, False, False,  True]), torch.Size([5]))"
      ]
     },
     "execution_count": 125,
     "metadata": {},
     "output_type": "execute_result"
    }
   ],
   "source": [
    "columns_with_all_negative_one = torch.all(filtered_mask, dim=0)\n",
    "nonzero_indices = torch.nonzero(columns_with_all_negative_one, as_tuple=True)\n",
    "\n",
    "columns_with_all_negative_one, columns_with_all_negative_one.shape"
   ]
  },
  {
   "cell_type": "code",
   "execution_count": 126,
   "metadata": {},
   "outputs": [
    {
     "data": {
      "text/plain": [
       "(tensor([False, False, False, False,  True]), (tensor([4]),))"
      ]
     },
     "execution_count": 126,
     "metadata": {},
     "output_type": "execute_result"
    }
   ],
   "source": [
    "columns_with_all_negative_one, nonzero_indices"
   ]
  }
 ],
 "metadata": {
  "kernelspec": {
   "display_name": "tree5",
   "language": "python",
   "name": "python3"
  },
  "language_info": {
   "codemirror_mode": {
    "name": "ipython",
    "version": 3
   },
   "file_extension": ".py",
   "mimetype": "text/x-python",
   "name": "python",
   "nbconvert_exporter": "python",
   "pygments_lexer": "ipython3",
   "version": "3.9.19"
  }
 },
 "nbformat": 4,
 "nbformat_minor": 2
}
