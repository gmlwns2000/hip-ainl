{
 "cells": [
  {
   "cell_type": "code",
   "execution_count": 7,
   "metadata": {},
   "outputs": [],
   "source": [
    "import math\n",
    "# from timber.trainer.timber_trainer import load_model\n",
    "import torch\n",
    "import os\n",
    "\n",
    "_N_H = 3\n",
    "TDST_BQ = 5\n",
    "MASK_K_BK = 4\n",
    "MODEL_N = 3\n",
    "\n",
    "ensemble_attn_mask_per_layer = torch.randint(1, 11, (_N_H, TDST_BQ, MASK_K_BK, MODEL_N))"
   ]
  },
  {
   "cell_type": "code",
   "execution_count": 8,
   "metadata": {},
   "outputs": [],
   "source": [
    "ensemble_attn_mask_per_layer = ensemble_attn_mask_per_layer.view(_N_H * TDST_BQ, MASK_K_BK * MODEL_N)\n",
    "# ensemble_attn_mask_per_layer : [N*H * TDST//BLOCK_SIZE_Q, mask_k//BLOCK_SIZE_K * ensemble_model_n]\n",
    "unique_x, indices, unique_cnt = torch.unique(ensemble_attn_mask_per_layer, return_inverse=True, sorted=False, return_counts=True)\n",
    "# indices -= indices.min(dim=1, keepdims=True)[0]\n",
    "\n",
    "# cnt_x = (unique_x[None, None, :] == ensemble_attn_mask_per_layer[:, :, None]).long().sum(1)\n",
    "N, K = ensemble_attn_mask_per_layer.shape\n",
    "\n",
    "cnt_xs = []\n",
    "chunk_n = 64\n",
    "for icn in range(int(math.ceil(N / chunk_n))):\n",
    "    cnt_xs.append(\n",
    "        (unique_x[None, None, :] == ensemble_attn_mask_per_layer[icn*chunk_n:icn*chunk_n+chunk_n, :, None]).long().sum(1)\n",
    "    )\n",
    "cnt_x = torch.cat(cnt_xs, dim=0)\n",
    "\n",
    "\n",
    "result = torch.full_like(ensemble_attn_mask_per_layer, 9999999)\n",
    "result = result.scatter_(1, indices.clamp(0, K-1), ensemble_attn_mask_per_layer)\n",
    "\n",
    "\n",
    "# t = result[:, :, None] == unique_x[None, None, :]\n",
    "# t = t * torch.arange(len(unique_x), device=t.device)[None, None, :]\n",
    "# t = t.sum(-1)\n",
    "N, K = result.shape\n",
    "ts = []\n",
    "chunk_n = 64\n",
    "for icn in range(int(math.ceil(N / chunk_n))):\n",
    "    t = result[icn*chunk_n:icn*chunk_n+chunk_n, :, None] == unique_x[None, None, :]\n",
    "    t = t * torch.arange(len(unique_x), device=t.device)[None, None, :]\n",
    "    t = t.sum(-1)\n",
    "    ts.append(t)\n",
    "t = torch.cat(ts, dim=0)\n",
    "\n",
    "# torch.Size([4096, 1280]) torch.Size([64, 1280]) torch.Size([4096, 2094])\n",
    "# print(result.shape, t.shape, cnt_x.shape)\n",
    "result_cnt = torch.where(result < 9999999, cnt_x.gather(-1, t), -9999999)"
   ]
  },
  {
   "cell_type": "code",
   "execution_count": 9,
   "metadata": {},
   "outputs": [
    {
     "data": {
      "text/plain": [
       "tensor([[ 3,  3,  4,  8,  8,  9,  4,  9,  9,  4,  7,  2],\n",
       "        [ 6, 10,  8,  4,  1,  9,  7, 10, 10,  4,  2,  4],\n",
       "        [ 9,  8,  3,  7,  9,  5,  2, 10,  2,  4,  1,  8],\n",
       "        [ 1,  6,  8,  4, 10,  9,  4,  1,  4,  2, 10,  9],\n",
       "        [ 3,  6,  5,  7,  7,  2,  8,  2,  8,  7, 10,  8],\n",
       "        [ 9,  4,  2,  8,  1,  7,  4,  7,  8,  5,  2, 10],\n",
       "        [10,  7,  2,  1,  2,  9,  4,  3, 10,  4,  1,  9],\n",
       "        [ 1,  6,  6,  6,  6,  4,  2,  7, 10,  9,  2,  9],\n",
       "        [ 3,  5,  2,  9,  6,  5,  3,  2,  5,  6,  6,  9],\n",
       "        [10,  4,  4,  2,  2,  8,  9,  8,  9,  3,  4,  9],\n",
       "        [ 6,  8,  8,  4,  9,  8,  9,  1,  9, 10,  6,  3],\n",
       "        [ 8,  8,  6,  8,  4,  9,  4,  1, 10,  4,  5,  3],\n",
       "        [ 4, 10,  8,  8,  9,  8,  4,  2,  8,  3,  7, 10],\n",
       "        [10,  3,  5,  4,  6,  6,  6, 10,  5, 10,  6,  9],\n",
       "        [ 9,  8,  7,  9,  7,  3,  6,  1, 10,  1,  1,  8]])"
      ]
     },
     "execution_count": 9,
     "metadata": {},
     "output_type": "execute_result"
    }
   ],
   "source": [
    "ensemble_attn_mask_per_layer"
   ]
  },
  {
   "cell_type": "code",
   "execution_count": 10,
   "metadata": {},
   "outputs": [
    {
     "data": {
      "text/plain": [
       "tensor([[9999999,       2,       3,       4, 9999999, 9999999,       7,       8,\n",
       "               9, 9999999, 9999999, 9999999],\n",
       "        [      1,       2, 9999999,       4, 9999999,       6,       7,       8,\n",
       "               9,      10, 9999999, 9999999],\n",
       "        [      1,       2,       3,       4,       5, 9999999,       7,       8,\n",
       "               9,      10, 9999999, 9999999],\n",
       "        [      1,       2, 9999999,       4, 9999999,       6, 9999999,       8,\n",
       "               9,      10, 9999999, 9999999],\n",
       "        [9999999,       2,       3, 9999999,       5,       6,       7,       8,\n",
       "         9999999,      10, 9999999, 9999999],\n",
       "        [      1,       2, 9999999,       4,       5, 9999999,       7,       8,\n",
       "               9,      10, 9999999, 9999999],\n",
       "        [      1,       2,       3,       4, 9999999, 9999999,       7, 9999999,\n",
       "               9,      10, 9999999, 9999999],\n",
       "        [      1,       2, 9999999,       4, 9999999,       6,       7, 9999999,\n",
       "               9,      10, 9999999, 9999999],\n",
       "        [9999999,       2,       3, 9999999,       5,       6, 9999999, 9999999,\n",
       "               9, 9999999, 9999999, 9999999],\n",
       "        [9999999,       2,       3,       4, 9999999, 9999999, 9999999,       8,\n",
       "               9,      10, 9999999, 9999999],\n",
       "        [      1, 9999999,       3,       4, 9999999,       6, 9999999,       8,\n",
       "               9,      10, 9999999, 9999999],\n",
       "        [      1, 9999999,       3,       4,       5,       6, 9999999,       8,\n",
       "               9,      10, 9999999, 9999999],\n",
       "        [9999999,       2,       3,       4, 9999999, 9999999,       7,       8,\n",
       "               9,      10, 9999999, 9999999],\n",
       "        [9999999, 9999999,       3,       4,       5,       6, 9999999, 9999999,\n",
       "               9,      10, 9999999, 9999999],\n",
       "        [      1, 9999999,       3, 9999999, 9999999,       6,       7,       8,\n",
       "               9,      10, 9999999, 9999999]])"
      ]
     },
     "execution_count": 10,
     "metadata": {},
     "output_type": "execute_result"
    }
   ],
   "source": [
    "result"
   ]
  },
  {
   "cell_type": "code",
   "execution_count": 11,
   "metadata": {},
   "outputs": [
    {
     "data": {
      "text/plain": [
       "tensor([[-9999999,        1,        2,        3, -9999999, -9999999,        1,\n",
       "                2,        3, -9999999, -9999999, -9999999],\n",
       "        [       1,        1, -9999999,        3, -9999999,        1,        1,\n",
       "                1,        1,        3, -9999999, -9999999],\n",
       "        [       1,        2,        1,        1,        1, -9999999,        1,\n",
       "                2,        2,        1, -9999999, -9999999],\n",
       "        [       2,        1, -9999999,        3, -9999999,        1, -9999999,\n",
       "                1,        2,        2, -9999999, -9999999],\n",
       "        [-9999999,        2,        1, -9999999,        1,        1,        3,\n",
       "                3, -9999999,        1, -9999999, -9999999],\n",
       "        [       1,        2, -9999999,        2,        1, -9999999,        2,\n",
       "                2,        1,        1, -9999999, -9999999],\n",
       "        [       2,        2,        1,        2, -9999999, -9999999,        1,\n",
       "         -9999999,        2,        2, -9999999, -9999999],\n",
       "        [       1,        2, -9999999,        1, -9999999,        4,        1,\n",
       "         -9999999,        2,        1, -9999999, -9999999],\n",
       "        [-9999999,        2,        2, -9999999,        3,        3, -9999999,\n",
       "         -9999999,        2, -9999999, -9999999, -9999999],\n",
       "        [-9999999,        2,        1,        3, -9999999, -9999999, -9999999,\n",
       "                2,        3,        1, -9999999, -9999999],\n",
       "        [       1, -9999999,        1,        1, -9999999,        2, -9999999,\n",
       "                3,        3,        1, -9999999, -9999999],\n",
       "        [       1, -9999999,        1,        3,        1,        1, -9999999,\n",
       "                3,        1,        1, -9999999, -9999999],\n",
       "        [-9999999,        1,        1,        2, -9999999, -9999999,        1,\n",
       "                4,        1,        2, -9999999, -9999999],\n",
       "        [-9999999, -9999999,        1,        1,        2,        4, -9999999,\n",
       "         -9999999,        1,        3, -9999999, -9999999],\n",
       "        [       3, -9999999,        1, -9999999, -9999999,        1,        2,\n",
       "                2,        2,        1, -9999999, -9999999]])"
      ]
     },
     "execution_count": 11,
     "metadata": {},
     "output_type": "execute_result"
    }
   ],
   "source": [
    "result_cnt"
   ]
  },
  {
   "cell_type": "code",
   "execution_count": 12,
   "metadata": {},
   "outputs": [],
   "source": [
    "ensemble_cnt_sorted, indices = torch.sort(result_cnt, dim=-1, descending=True)\n",
    "ensemble_sorted = result.gather(-1, indices)\n",
    "# mask = ensemble_cnt_sorted >= ensemble_method_final_inter_thresh\n",
    "\n",
    "# ensemble_filtered = torch.where(mask, ensemble_sorted, torch.tensor(9999999, device=mask.device))\n",
    "# ensemble_cnt_filtered = torch.where(mask, ensemble_cnt_sorted, torch.tensor(9999999, device=mask.device))\n"
   ]
  },
  {
   "cell_type": "code",
   "execution_count": 13,
   "metadata": {},
   "outputs": [
    {
     "data": {
      "text/plain": [
       "tensor([[      4,       9,       3,       8,       2,       7, 9999999, 9999999,\n",
       "         9999999, 9999999, 9999999, 9999999],\n",
       "        [      4,      10,       1,       2,       6,       7,       8,       9,\n",
       "         9999999, 9999999, 9999999, 9999999],\n",
       "        [      2,       8,       9,       1,       3,       4,       5,       7,\n",
       "              10, 9999999, 9999999, 9999999],\n",
       "        [      4,       1,       9,      10,       2,       6,       8, 9999999,\n",
       "         9999999, 9999999, 9999999, 9999999],\n",
       "        [      7,       8,       2,       3,       5,       6,      10, 9999999,\n",
       "         9999999, 9999999, 9999999, 9999999],\n",
       "        [      2,       4,       7,       8,       1,       5,       9,      10,\n",
       "         9999999, 9999999, 9999999, 9999999],\n",
       "        [      1,       2,       4,       9,      10,       3,       7, 9999999,\n",
       "         9999999, 9999999, 9999999, 9999999],\n",
       "        [      6,       2,       9,       1,       4,       7,      10, 9999999,\n",
       "         9999999, 9999999, 9999999, 9999999],\n",
       "        [      5,       6,       2,       3,       9, 9999999, 9999999, 9999999,\n",
       "         9999999, 9999999, 9999999, 9999999],\n",
       "        [      4,       9,       2,       8,       3,      10, 9999999, 9999999,\n",
       "         9999999, 9999999, 9999999, 9999999],\n",
       "        [      8,       9,       6,       1,       3,       4,      10, 9999999,\n",
       "         9999999, 9999999, 9999999, 9999999],\n",
       "        [      4,       8,       1,       3,       5,       6,       9,      10,\n",
       "         9999999, 9999999, 9999999, 9999999],\n",
       "        [      8,       4,      10,       2,       3,       7,       9, 9999999,\n",
       "         9999999, 9999999, 9999999, 9999999],\n",
       "        [      6,      10,       5,       3,       4,       9, 9999999, 9999999,\n",
       "         9999999, 9999999, 9999999, 9999999],\n",
       "        [      1,       7,       8,       9,       3,       6,      10, 9999999,\n",
       "         9999999, 9999999, 9999999, 9999999]])"
      ]
     },
     "execution_count": 13,
     "metadata": {},
     "output_type": "execute_result"
    }
   ],
   "source": [
    "ensemble_sorted"
   ]
  },
  {
   "cell_type": "code",
   "execution_count": 14,
   "metadata": {},
   "outputs": [
    {
     "data": {
      "text/plain": [
       "tensor([[       3,        3,        2,        2,        1,        1, -9999999,\n",
       "         -9999999, -9999999, -9999999, -9999999, -9999999],\n",
       "        [       3,        3,        1,        1,        1,        1,        1,\n",
       "                1, -9999999, -9999999, -9999999, -9999999],\n",
       "        [       2,        2,        2,        1,        1,        1,        1,\n",
       "                1,        1, -9999999, -9999999, -9999999],\n",
       "        [       3,        2,        2,        2,        1,        1,        1,\n",
       "         -9999999, -9999999, -9999999, -9999999, -9999999],\n",
       "        [       3,        3,        2,        1,        1,        1,        1,\n",
       "         -9999999, -9999999, -9999999, -9999999, -9999999],\n",
       "        [       2,        2,        2,        2,        1,        1,        1,\n",
       "                1, -9999999, -9999999, -9999999, -9999999],\n",
       "        [       2,        2,        2,        2,        2,        1,        1,\n",
       "         -9999999, -9999999, -9999999, -9999999, -9999999],\n",
       "        [       4,        2,        2,        1,        1,        1,        1,\n",
       "         -9999999, -9999999, -9999999, -9999999, -9999999],\n",
       "        [       3,        3,        2,        2,        2, -9999999, -9999999,\n",
       "         -9999999, -9999999, -9999999, -9999999, -9999999],\n",
       "        [       3,        3,        2,        2,        1,        1, -9999999,\n",
       "         -9999999, -9999999, -9999999, -9999999, -9999999],\n",
       "        [       3,        3,        2,        1,        1,        1,        1,\n",
       "         -9999999, -9999999, -9999999, -9999999, -9999999],\n",
       "        [       3,        3,        1,        1,        1,        1,        1,\n",
       "                1, -9999999, -9999999, -9999999, -9999999],\n",
       "        [       4,        2,        2,        1,        1,        1,        1,\n",
       "         -9999999, -9999999, -9999999, -9999999, -9999999],\n",
       "        [       4,        3,        2,        1,        1,        1, -9999999,\n",
       "         -9999999, -9999999, -9999999, -9999999, -9999999],\n",
       "        [       3,        2,        2,        2,        1,        1,        1,\n",
       "         -9999999, -9999999, -9999999, -9999999, -9999999]])"
      ]
     },
     "execution_count": 14,
     "metadata": {},
     "output_type": "execute_result"
    }
   ],
   "source": [
    "ensemble_cnt_sorted"
   ]
  }
 ],
 "metadata": {
  "kernelspec": {
   "display_name": "tree5",
   "language": "python",
   "name": "python3"
  },
  "language_info": {
   "codemirror_mode": {
    "name": "ipython",
    "version": 3
   },
   "file_extension": ".py",
   "mimetype": "text/x-python",
   "name": "python",
   "nbconvert_exporter": "python",
   "pygments_lexer": "ipython3",
   "version": "3.9.19"
  }
 },
 "nbformat": 4,
 "nbformat_minor": 2
}
