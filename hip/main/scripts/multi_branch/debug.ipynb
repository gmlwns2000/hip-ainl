{
 "cells": [
  {
   "cell_type": "code",
   "execution_count": 8,
   "metadata": {},
   "outputs": [
    {
     "name": "stderr",
     "output_type": "stream",
     "text": [
      "/tmp/ipykernel_755252/229381199.py:6: FutureWarning: You are using `torch.load` with `weights_only=False` (the current default value), which uses the default pickle module implicitly. It is possible to construct malicious pickle data which will execute arbitrary code during unpickling (See https://github.com/pytorch/pytorch/blob/main/SECURITY.md#untrusted-models for more details). In a future release, the default value for `weights_only` will be flipped to `True`. This limits the functions that could be executed during unpickling. Arbitrary objects will no longer be allowed to be loaded via this mode unless they are explicitly allowlisted by the user via `torch.serialization.add_safe_globals`. We recommend you start setting `weights_only=True` for any use case where you don't have full control of the loaded file. Please open an issue on GitHub for any issues related to this experimental feature.\n",
      "  default_.append(torch.load(f'../../../../saves__/plot_l{layer}/hip_default_t8192.pth', map_location='cpu'))\n",
      "/tmp/ipykernel_755252/229381199.py:7: FutureWarning: You are using `torch.load` with `weights_only=False` (the current default value), which uses the default pickle module implicitly. It is possible to construct malicious pickle data which will execute arbitrary code during unpickling (See https://github.com/pytorch/pytorch/blob/main/SECURITY.md#untrusted-models for more details). In a future release, the default value for `weights_only` will be flipped to `True`. This limits the functions that could be executed during unpickling. Arbitrary objects will no longer be allowed to be loaded via this mode unless they are explicitly allowlisted by the user via `torch.serialization.add_safe_globals`. We recommend you start setting `weights_only=True` for any use case where you don't have full control of the loaded file. Please open an issue on GitHub for any issues related to this experimental feature.\n",
      "  multi_.append(torch.load(f'../../../../saves__/plot_l{layer}/hip_multi_t8192.pth', map_location='cpu'))\n"
     ]
    }
   ],
   "source": [
    "import torch\n",
    "# multi_branch : 4\n",
    "default_ = []\n",
    "multi_ = []\n",
    "for layer in range(3):\n",
    "    default_.append(torch.load(f'../../../../saves__/plot_l{layer}/hip_default_t8192.pth', map_location='cpu'))\n",
    "    multi_.append(torch.load(f'../../../../saves__/plot_l{layer}/hip_multi_t8192.pth', map_location='cpu'))"
   ]
  },
  {
   "cell_type": "code",
   "execution_count": 9,
   "metadata": {},
   "outputs": [
    {
     "name": "stdout",
     "output_type": "stream",
     "text": [
      "1.2846141\n",
      "1.2873495\n",
      "1.2778952\n"
     ]
    }
   ],
   "source": [
    "for i in range(3):\n",
    "    print(multi_[i]['sum']/default_[i]['sum'])"
   ]
  }
 ],
 "metadata": {
  "kernelspec": {
   "display_name": "hip",
   "language": "python",
   "name": "python3"
  },
  "language_info": {
   "codemirror_mode": {
    "name": "ipython",
    "version": 3
   },
   "file_extension": ".py",
   "mimetype": "text/x-python",
   "name": "python",
   "nbconvert_exporter": "python",
   "pygments_lexer": "ipython3",
   "version": "3.9.19"
  }
 },
 "nbformat": 4,
 "nbformat_minor": 2
}
